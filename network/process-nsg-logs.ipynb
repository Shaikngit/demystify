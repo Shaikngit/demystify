{
  "cells": [
    {
      "cell_type": "code",
      "execution_count": null,
      "metadata": {
        "application/vnd.databricks.v1+cell": {
          "cellMetadata": {

          },
          "inputWidgets": {

          },
          "nuid": "9da17df2-845c-4235-a1f6-782f36b78b89",
          "showTitle": false,
          "title": ""
        },
        "cell_status": {
          "execute_time": {
            "duration": 256.7470703125,
            "end_time": 1669996029037.489
          }
        },
        "collapsed": false,
        "deletable": true,
        "editable": true
      },
      "outputs": [

      ],
      "source": [
        "from pyspark.context import SparkContext\n",
        "from pyspark.sql.session import SparkSession\n",
        "from pyspark.sql.functions import *\n",
        "\n",
        "sc = SparkContext.getOrCreate()\n",
        "spark = SparkSession(sc)"
      ]
    },
    {
      "cell_type": "code",
      "execution_count": null,
      "metadata": {
        "application/vnd.databricks.v1+cell": {
          "cellMetadata": {

          },
          "inputWidgets": {

          },
          "nuid": "cec8d00d-fb7b-456e-95f1-db50dd9ed3ef",
          "showTitle": false,
          "title": ""
        }
      },
      "outputs": [

      ],
      "source": [
        "# rawDF = spark.read.json(\"/mnt/data/y=2022/m=11/d=14/h=01/m=00/macAddress=000D3A40BE42/PT1H.json\")\n",
        "# rawDF = spark.read.json(\"/mnt/data/y=2022/m=11/d=14/h=01/m=00/*/PT1H.json\")\n",
        "# rawDF = spark.read.json(\"/mnt/data/y=2022/m=11/d=14/h=01/*/*/PT1H.json\")\n",
        "# rawDF = spark.read.json(\"/mnt/data/y=2022/m=11/d=14/*/*/*/PT1H.json\")\n",
        "rawDF = spark.read.json(\"/mnt/data/y=2022/m=11/*/*/*/*/PT1H.json\")\n",
        "# rawDF = spark.read.json(\"/mnt/data/y=2022/*/*/*/*/*/PT1H.json\")\n",
        "# rawDF = spark.read.json(\"dbfs:/mnt/data/logs/*/*.json\", multiLine = \"true\")\n",
        "# rawDF = spark.read.json(\"/mnt/data/logs/*.json\", multiLine = \"true\")\n",
        "# rawDF.show()"
      ]
    },
    {
      "cell_type": "code",
      "execution_count": null,
      "metadata": {
        "application/vnd.databricks.v1+cell": {
          "cellMetadata": {

          },
          "inputWidgets": {

          },
          "nuid": "4670b349-0a84-4d9d-b30a-cd4f31d6ece6",
          "showTitle": false,
          "title": ""
        },
        "cell_status": {
          "execute_time": {
            "duration": 264.909912109375,
            "end_time": 1669994786337.685
          }
        },
        "collapsed": false,
        "deletable": true,
        "editable": true
      },
      "outputs": [

      ],
      "source": [
        "recordsDF = rawDF.select(explode(\"records\"))\n",
        "recordsDF.printSchema()"
      ]
    },
    {
      "cell_type": "code",
      "execution_count": null,
      "metadata": {
        "application/vnd.databricks.v1+cell": {
          "cellMetadata": {

          },
          "inputWidgets": {

          },
          "nuid": "26d6073d-60b1-4d53-a4a8-af2516fad00b",
          "showTitle": false,
          "title": ""
        }
      },
      "outputs": [

      ],
      "source": [
        "flows1DF = recordsDF.select(\n",
        "    \"col.time\",\n",
        "    \"col.category\",\n",
        "    \"col.macAddress\",\n",
        "    \"col.properties.Version\",\n",
        "    explode(\"col.properties.flows\"),\n",
        ")\n",
        "flows1DF.printSchema()\n",
        "# flows1DF.show()"
      ]
    },
    {
      "cell_type": "code",
      "execution_count": null,
      "metadata": {
        "application/vnd.databricks.v1+cell": {
          "cellMetadata": {

          },
          "inputWidgets": {

          },
          "nuid": "53adb298-4201-4a46-bda6-9a770ffeeb58",
          "showTitle": false,
          "title": ""
        },
        "cell_status": {
          "execute_time": {
            "duration": 7308.8310546875,
            "end_time": 1669994794628.726
          }
        },
        "collapsed": false,
        "deletable": true,
        "editable": true
      },
      "outputs": [

      ],
      "source": [
        "flows2DF = flows1DF.select(\n",
        "    \"time\", \"category\", \"macAddress\", \"Version\", \"col.rule\", explode(\"col.flows\")\n",
        ")\n",
        "flows2DF.printSchema()\n",
        "flows2DF.show(1, False)\n",
        "# flows2DF.show()"
      ]
    },
    {
      "cell_type": "code",
      "execution_count": null,
      "metadata": {
        "application/vnd.databricks.v1+cell": {
          "cellMetadata": {

          },
          "inputWidgets": {

          },
          "nuid": "d41ee74e-68af-4e2d-98c1-02a1c334e629",
          "showTitle": false,
          "title": ""
        }
      },
      "outputs": [

      ],
      "source": [
        "flowTuplesDF = flows2DF.select(\n",
        "    \"time\",\n",
        "    \"category\",\n",
        "    \"macAddress\",\n",
        "    \"Version\",\n",
        "    \"rule\",\n",
        "    \"col.mac\",\n",
        "    explode(\"col.flowTuples\"),\n",
        ")\n",
        "# flowTuplesDF.printSchema()\n",
        "# flowTuplesDF.show(1,False)\n",
        "\n",
        "finalDf = (\n",
        "    flowTuplesDF.withColumn(\"epochtime\", split(col(\"col\"), \",\").getItem(0))\n",
        "    .withColumn(\"sourceip\", split(col(\"col\"), \",\").getItem(1))\n",
        "    .withColumn(\"destip\", split(col(\"col\"), \",\").getItem(2))\n",
        "    .withColumn(\"sourceport\", split(col(\"col\"), \",\").getItem(3))\n",
        "    .withColumn(\"destport\", split(col(\"col\"), \",\").getItem(4))\n",
        "    .withColumn(\"Protocol\", split(col(\"col\"), \",\").getItem(5))\n",
        "    .withColumn(\"TrafficFlow\", split(col(\"col\"), \",\").getItem(6))\n",
        "    .withColumn(\"TrafficDecision\", split(col(\"col\"), \",\").getItem(7))\n",
        "    .withColumn(\"FlowState\", split(col(\"col\"), \",\").getItem(8))\n",
        "    .withColumn(\"PacketsS2D\", split(col(\"col\"), \",\").getItem(9))\n",
        "    .withColumn(\"BytesSentS2D\", split(col(\"col\"), \",\").getItem(10))\n",
        "    .withColumn(\"PacketsD2S\", split(col(\"col\"), \",\").getItem(11))\n",
        "    .withColumn(\"BytesSentD2S\", split(col(\"col\"), \",\").getItem(12))\n",
        "    .drop(\"col\")\n",
        ")\n",
        "\n",
        "finalDf.show(2, False)\n",
        "finalDf.printSchema()"
      ]
    },
    {
      "cell_type": "code",
      "execution_count": null,
      "metadata": {
        "application/vnd.databricks.v1+cell": {
          "cellMetadata": {

          },
          "inputWidgets": {

          },
          "nuid": "806d91d3-a2d1-4d3c-8bf2-c0f3503a3074",
          "showTitle": false,
          "title": ""
        }
      },
      "outputs": [

      ],
      "source": [
        "print(f\"Total processed flow tuple number: {finalDf.count()}\")"
      ]
    },
    {
      "cell_type": "markdown",
      "metadata": {
        "application/vnd.databricks.v1+cell": {
          "cellMetadata": {

          },
          "inputWidgets": {

          },
          "nuid": "deac62d8-a8cd-4d5b-8acb-64fbfb38f30d",
          "showTitle": false,
          "title": ""
        }
      },
      "source": [
        "### Save result to ADLS"
      ]
    },
    {
      "cell_type": "code",
      "execution_count": null,
      "metadata": {
        "application/vnd.databricks.v1+cell": {
          "cellMetadata": {

          },
          "inputWidgets": {

          },
          "nuid": "fc18620a-277c-4c18-9e48-dab83923962f",
          "showTitle": false,
          "title": ""
        }
      },
      "outputs": [

      ],
      "source": [
        "finalDf.write.format(\"com.databricks.spark.csv\").mode(\"overwrite\").save(\n",
        "    \"dbfs:/mnt/data/output/nsgflow_dbricks_merged.csv\"\n",
        ")"
      ]
    }
  ],
  "metadata": {
    "application/vnd.databricks.v1+notebook": {
      "dashboards": [
        {
          "elements": [

          ],
          "globalVars": {

          },
          "guid": "2478f81a-c454-4bfa-9975-b1818b5a345b",
          "layoutOption": {
            "grid": true,
            "stack": true
          },
          "nuid": "240947b6-8b18-412e-8023-a2918c9a16dd",
          "origId": 69965593468126,
          "title": "Untitled",
          "version": "DashboardViewV1",
          "width": 1024
        }
      ],
      "language": "python",
      "notebookMetadata": {
        "pythonIndentUnit": 4
      },
      "notebookName": "process-nsg-logs",
      "notebookOrigID": 69965593468116,
      "widgets": {

      }
    },
    "kernelspec": {
      "display_name": "PySpark3",
      "language": "",
      "name": "pyspark3kernel"
    },
    "language_info": {
      "codemirror_mode": {
        "name": "python",
        "version": 3
      },
      "mimetype": "text/x-python",
      "name": "pyspark3",
      "pygments_lexer": "python3"
    }
  },
  "nbformat": 4,
  "nbformat_minor": 0
}
