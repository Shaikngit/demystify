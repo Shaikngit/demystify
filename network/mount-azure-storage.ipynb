{
  "cells": [
    {
      "cell_type": "markdown",
      "metadata": {
        "application/vnd.databricks.v1+cell": {
          "cellMetadata": {},
          "inputWidgets": {},
          "nuid": "92b7a45d-e310-403d-ad32-8aab1a9bc265",
          "showTitle": false,
          "title": ""
        }
      },
      "source": [
        "## Mount ADLS as databricks "
      ]
    },
    {
      "cell_type": "code",
      "execution_count": null,
      "metadata": {
        "application/vnd.databricks.v1+cell": {
          "cellMetadata": {},
          "inputWidgets": {},
          "nuid": "e64d99ef-c269-452d-96c3-b707ae3990e8",
          "showTitle": false,
          "title": ""
        }
      },
      "outputs": [],
      "source": [
        "dbutils.fs.unmount(\"/mnt/data\")\n",
        "\n",
        "configs = {\n",
        "    \"fs.azure.account.auth.type\": \"OAuth\",\n",
        "    \"fs.azure.account.oauth.provider.type\": \"org.apache.hadoop.fs.azurebfs.oauth2.ClientCredsTokenProvider\",\n",
        "    \"fs.azure.account.oauth2.client.id\": \"input your aad client id\",\n",
        "    \"fs.azure.account.oauth2.client.secret\": \"input your aad client secret\",\n",
        "    \"fs.azure.account.oauth2.client.endpoint\": \"https://login.microsoftonline.com/input-your-tenant-id/oauth2/token\",\n",
        "}\n",
        "\n",
        "dbutils.fs.mount(\n",
        "    source=\"abfss://345787378@qliuadls.dfs.core.windows.net\",\n",
        "    mount_point=\"/mnt/data\",\n",
        "    extra_configs=configs,\n",
        ")"
      ]
    },
    {
      "cell_type": "markdown",
      "metadata": {
        "application/vnd.databricks.v1+cell": {
          "cellMetadata": {},
          "inputWidgets": {},
          "nuid": "5689caf1-90dc-4b70-9656-d49ca28b60f5",
          "showTitle": false,
          "title": ""
        }
      },
      "source": [
        "## Test access"
      ]
    },
    {
      "cell_type": "code",
      "execution_count": null,
      "metadata": {
        "application/vnd.databricks.v1+cell": {
          "cellMetadata": {},
          "inputWidgets": {},
          "nuid": "c06466d5-262b-4933-828b-5b6025749fb6",
          "showTitle": false,
          "title": ""
        }
      },
      "outputs": [],
      "source": [
        "df = spark.read.json(\n",
        "    \"/mnt/data/y=2022/m=11/d=14/h=01/m=00/macAddress=000D3A40BE42/PT1H.json\"\n",
        ")\n",
        "df.show()"
      ]
    }
  ],
  "metadata": {
    "application/vnd.databricks.v1+notebook": {
      "dashboards": [],
      "language": "python",
      "notebookMetadata": {
        "pythonIndentUnit": 4
      },
      "notebookName": "moute-azure-storage",
      "notebookOrigID": 31072094621380,
      "widgets": {}
    },
    "kernelspec": {
      "display_name": "Python 3.10.8 64-bit",
      "language": "python",
      "name": "python3"
    },
    "language_info": {
      "name": "python",
      "version": "3.10.8"
    },
    "vscode": {
      "interpreter": {
        "hash": "369f2c481f4da34e4445cda3fffd2e751bd1c4d706f27375911949ba6bb62e1c"
      }
    }
  },
  "nbformat": 4,
  "nbformat_minor": 0
}
